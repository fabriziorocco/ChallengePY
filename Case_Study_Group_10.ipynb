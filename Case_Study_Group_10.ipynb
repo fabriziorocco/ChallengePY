{
  "nbformat": 4,
  "nbformat_minor": 0,
  "metadata": {
    "colab": {
      "name": "Case Study Group 10.ipynb",
      "provenance": [],
      "collapsed_sections": [],
      "toc_visible": true,
      "include_colab_link": true
    },
    "kernelspec": {
      "name": "python3",
      "display_name": "Python 3"
    },
    "language_info": {
      "name": "python"
    }
  },
  "cells": [
    {
      "cell_type": "markdown",
      "metadata": {
        "id": "view-in-github",
        "colab_type": "text"
      },
      "source": [
        "<a href=\"https://colab.research.google.com/github/fabriziorocco/Customer-Service-Car-Industry/blob/main/Case_Study_Group_10.ipynb\" target=\"_parent\"><img src=\"https://colab.research.google.com/assets/colab-badge.svg\" alt=\"Open In Colab\"/></a>"
      ]
    },
    {
      "cell_type": "markdown",
      "metadata": {
        "id": "TtoTO8_y_GuL"
      },
      "source": [
        "# **Case Study 2 - Group 10**"
      ]
    },
    {
      "cell_type": "markdown",
      "metadata": {
        "id": "SLVycCYZZhTa"
      },
      "source": [
        "#**Step 1: Forming the portfolio**"
      ]
    },
    {
      "cell_type": "markdown",
      "metadata": {
        "id": "-3ipeCfqcSHW"
      },
      "source": [
        "We started by importing the necessary libraries for the task, for which we provide a brief description here below:\n",
        "\n",
        "*   **Numpy:** numerical computing tool\n",
        "\n",
        "*   **Pandas** *(and related)*: data analysis and manipulation tool, direct data retrieval from web sources\n",
        "\n",
        "*   **Seaborn:** statistical data visualization tool\n",
        "\n",
        "*   **Statsmodel:** statistical models and statistical data exploration\n",
        "\n",
        "\n",
        "\n"
      ]
    },
    {
      "cell_type": "code",
      "metadata": {
        "id": "pt7WZ-0mFdFb"
      },
      "source": [
        "import numpy as np\n",
        "import pandas as pd\n",
        "import pandas_datareader as web\n",
        "import pandas_datareader.data as reader\n",
        "import seaborn as sns\n",
        "import statsmodels.api as sm\n",
        "from matplotlib.pyplot import hist as plt"
      ],
      "execution_count": null,
      "outputs": []
    },
    {
      "cell_type": "markdown",
      "metadata": {
        "id": "dt5jGEoAZOH9"
      },
      "source": [
        "We picked **4** *Exchange-traded funds* (**ETFs**) from the website https://finance.yahoo.com\n",
        "\n",
        "*   **ExxonMobil** (**XOM**): one of the world's largest international oil and gas companies\n",
        "\n",
        "\n",
        "*   **Southwestern Energy** (**SWN**): among the largest producer of natural gas and natural gas liquids in the United States\n",
        "\n",
        "*   **Verizon** (**VZ**): an American multinational telecommunications conglomerate\n",
        "\n",
        "*   **General Motors** (**GM**): an American multinational corporation that designs, manufactures, markets, and distributes vehicles and vehicle parts\n",
        "\n",
        "We proceeded by creating a list including the ticker symbols for the **4 ETFs** and the one of *SPDR S&P 500 ETF Trust* (**SPY**), which we later used as our market portfolio benchmark; we also defined the **list of weights** of our portfolio."
      ]
    },
    {
      "cell_type": "code",
      "metadata": {
        "id": "CtahbxH8HAWv"
      },
      "source": [
        "tickers = ['XOM','SWN','VZ','GM','SPY']\n",
        "weights = [0.2,0.3,0.3,0.2]"
      ],
      "execution_count": null,
      "outputs": []
    },
    {
      "cell_type": "markdown",
      "metadata": {
        "id": "9v_vcmTvjGWQ"
      },
      "source": [
        "Through a built-in function from the *pandas_datareader* library, we imported the **daily adjusted price** (net of all dividends and payments) for the 5 stocks from the *Yahoo Finance* website, for the period ranging from *January 2015* to *March 2021*.\n",
        "\n",
        "In order to properly compute the monthly return, it is necessary to consider  **the closing price on the day before the first day of each month**, i.e. the last day of the previous month. Therefore, the starting date is set to the *last working day of 2014*.\n",
        "\n"
      ]
    },
    {
      "cell_type": "code",
      "metadata": {
        "id": "wQg6HG1qJAzc",
        "colab": {
          "base_uri": "https://localhost:8080/",
          "height": 235
        },
        "outputId": "e6a99325-4006-4798-b5dc-c0877c60aa21"
      },
      "source": [
        "price = web.get_data_yahoo(tickers,\n",
        "                           start='2014-12-31',\n",
        "                           end = '2021-03-31')\n",
        "price = price['Adj Close']\n",
        "price.head()"
      ],
      "execution_count": null,
      "outputs": [
        {
          "output_type": "execute_result",
          "data": {
            "text/html": [
              "<div>\n",
              "<style scoped>\n",
              "    .dataframe tbody tr th:only-of-type {\n",
              "        vertical-align: middle;\n",
              "    }\n",
              "\n",
              "    .dataframe tbody tr th {\n",
              "        vertical-align: top;\n",
              "    }\n",
              "\n",
              "    .dataframe thead th {\n",
              "        text-align: right;\n",
              "    }\n",
              "</style>\n",
              "<table border=\"1\" class=\"dataframe\">\n",
              "  <thead>\n",
              "    <tr style=\"text-align: right;\">\n",
              "      <th>Symbols</th>\n",
              "      <th>XOM</th>\n",
              "      <th>SWN</th>\n",
              "      <th>VZ</th>\n",
              "      <th>GM</th>\n",
              "      <th>SPY</th>\n",
              "    </tr>\n",
              "    <tr>\n",
              "      <th>Date</th>\n",
              "      <th></th>\n",
              "      <th></th>\n",
              "      <th></th>\n",
              "      <th></th>\n",
              "      <th></th>\n",
              "    </tr>\n",
              "  </thead>\n",
              "  <tbody>\n",
              "    <tr>\n",
              "      <th>2014-12-31</th>\n",
              "      <td>69.394279</td>\n",
              "      <td>27.290001</td>\n",
              "      <td>34.963432</td>\n",
              "      <td>27.935520</td>\n",
              "      <td>182.247574</td>\n",
              "    </tr>\n",
              "    <tr>\n",
              "      <th>2015-01-02</th>\n",
              "      <td>69.679512</td>\n",
              "      <td>27.170000</td>\n",
              "      <td>35.097969</td>\n",
              "      <td>27.879498</td>\n",
              "      <td>182.149979</td>\n",
              "    </tr>\n",
              "    <tr>\n",
              "      <th>2015-01-05</th>\n",
              "      <td>67.772957</td>\n",
              "      <td>26.010000</td>\n",
              "      <td>34.806484</td>\n",
              "      <td>27.471392</td>\n",
              "      <td>178.860443</td>\n",
              "    </tr>\n",
              "    <tr>\n",
              "      <th>2015-01-06</th>\n",
              "      <td>67.412659</td>\n",
              "      <td>24.709999</td>\n",
              "      <td>35.157753</td>\n",
              "      <td>27.887501</td>\n",
              "      <td>177.175781</td>\n",
              "    </tr>\n",
              "    <tr>\n",
              "      <th>2015-01-07</th>\n",
              "      <td>68.095718</td>\n",
              "      <td>24.240000</td>\n",
              "      <td>34.930878</td>\n",
              "      <td>28.679714</td>\n",
              "      <td>179.383591</td>\n",
              "    </tr>\n",
              "  </tbody>\n",
              "</table>\n",
              "</div>"
            ],
            "text/plain": [
              "Symbols           XOM        SWN         VZ         GM         SPY\n",
              "Date                                                              \n",
              "2014-12-31  69.394279  27.290001  34.963432  27.935520  182.247574\n",
              "2015-01-02  69.679512  27.170000  35.097969  27.879498  182.149979\n",
              "2015-01-05  67.772957  26.010000  34.806484  27.471392  178.860443\n",
              "2015-01-06  67.412659  24.709999  35.157753  27.887501  177.175781\n",
              "2015-01-07  68.095718  24.240000  34.930878  28.679714  179.383591"
            ]
          },
          "metadata": {
            "tags": []
          },
          "execution_count": 72
        }
      ]
    },
    {
      "cell_type": "markdown",
      "metadata": {
        "id": "kYZVAQu1nc0b"
      },
      "source": [
        "#**Step 2: Converting daily adjusted prices to monthly log returns**"
      ]
    },
    {
      "cell_type": "markdown",
      "metadata": {
        "id": "JsHm-H7un0aM"
      },
      "source": [
        "In order to obtain *monthly log returns*, **2 methods** are available: \n",
        "\n",
        "\n",
        "*   **Percentage Change (PCT)**: a quick, reasonably precise approximation, for which a built-in function is provided\n",
        "\n",
        "*   **Log-Based**: the accurate, step-by-step computation, whose results were used in the following analysis\n",
        "\n"
      ]
    },
    {
      "cell_type": "markdown",
      "metadata": {
        "id": "ULammjLmlHlQ"
      },
      "source": [
        "## PCT Method "
      ]
    },
    {
      "cell_type": "markdown",
      "metadata": {
        "id": "wOA9Ja-sqXHs"
      },
      "source": [
        "The **Percentage Change method** is a mathematical procedure to describe *how a metric changes over time*. Here is a brief description of the functions used:\n",
        "\n",
        "*   .resample('M') : daily adjusted prices are *grouped into monthly bins*, from the **last day of the previous month** ($P_{Last}$) to the **last day of the current one** ($P_{First}$) included\n",
        "\n",
        "*   .ffill() : **missing data** is replaced with the first available value going **backward** in time\n",
        "\n",
        "*   .pct_change() : for each bin, compute the Percentage Change according to the following formula:  **Pct_Change = $ \\LARGE \\frac{P_{Last} - P_{First}}{P_{First}}$**\n",
        "\n",
        "Finally, we dropped *the first row* of the resulting dataset (concerning the last month of 2014), which was not needed for our analysis."
      ]
    },
    {
      "cell_type": "code",
      "metadata": {
        "id": "gmwyhsCjXhlX",
        "colab": {
          "base_uri": "https://localhost:8080/",
          "height": 450
        },
        "outputId": "8bf5dbed-c55a-4a75-c4b1-5bc1ca7a3852"
      },
      "source": [
        "price_pct = price.resample('M').ffill().pct_change()\n",
        "price_pct = price_pct.dropna(axis=0) #dropping first row\n",
        "price_pct"
      ],
      "execution_count": null,
      "outputs": [
        {
          "output_type": "execute_result",
          "data": {
            "text/html": [
              "<div>\n",
              "<style scoped>\n",
              "    .dataframe tbody tr th:only-of-type {\n",
              "        vertical-align: middle;\n",
              "    }\n",
              "\n",
              "    .dataframe tbody tr th {\n",
              "        vertical-align: top;\n",
              "    }\n",
              "\n",
              "    .dataframe thead th {\n",
              "        text-align: right;\n",
              "    }\n",
              "</style>\n",
              "<table border=\"1\" class=\"dataframe\">\n",
              "  <thead>\n",
              "    <tr style=\"text-align: right;\">\n",
              "      <th>Symbols</th>\n",
              "      <th>XOM</th>\n",
              "      <th>SWN</th>\n",
              "      <th>VZ</th>\n",
              "      <th>GM</th>\n",
              "      <th>SPY</th>\n",
              "    </tr>\n",
              "    <tr>\n",
              "      <th>Date</th>\n",
              "      <th></th>\n",
              "      <th></th>\n",
              "      <th></th>\n",
              "      <th></th>\n",
              "      <th></th>\n",
              "    </tr>\n",
              "  </thead>\n",
              "  <tbody>\n",
              "    <tr>\n",
              "      <th>2015-01-31</th>\n",
              "      <td>-0.054408</td>\n",
              "      <td>-0.091609</td>\n",
              "      <td>-0.011313</td>\n",
              "      <td>-0.065597</td>\n",
              "      <td>-0.029629</td>\n",
              "    </tr>\n",
              "    <tr>\n",
              "      <th>2015-02-28</th>\n",
              "      <td>0.020435</td>\n",
              "      <td>0.011698</td>\n",
              "      <td>0.081820</td>\n",
              "      <td>0.143777</td>\n",
              "      <td>0.056205</td>\n",
              "    </tr>\n",
              "    <tr>\n",
              "      <th>2015-03-31</th>\n",
              "      <td>-0.039982</td>\n",
              "      <td>-0.075359</td>\n",
              "      <td>-0.016582</td>\n",
              "      <td>0.013344</td>\n",
              "      <td>-0.015706</td>\n",
              "    </tr>\n",
              "    <tr>\n",
              "      <th>2015-04-30</th>\n",
              "      <td>0.027883</td>\n",
              "      <td>0.208711</td>\n",
              "      <td>0.048929</td>\n",
              "      <td>-0.065067</td>\n",
              "      <td>0.009834</td>\n",
              "    </tr>\n",
              "    <tr>\n",
              "      <th>2015-05-31</th>\n",
              "      <td>-0.016772</td>\n",
              "      <td>-0.080628</td>\n",
              "      <td>-0.019826</td>\n",
              "      <td>0.025955</td>\n",
              "      <td>0.012856</td>\n",
              "    </tr>\n",
              "    <tr>\n",
              "      <th>...</th>\n",
              "      <td>...</td>\n",
              "      <td>...</td>\n",
              "      <td>...</td>\n",
              "      <td>...</td>\n",
              "      <td>...</td>\n",
              "    </tr>\n",
              "    <tr>\n",
              "      <th>2020-11-30</th>\n",
              "      <td>0.197117</td>\n",
              "      <td>0.164794</td>\n",
              "      <td>0.060011</td>\n",
              "      <td>0.269621</td>\n",
              "      <td>0.108777</td>\n",
              "    </tr>\n",
              "    <tr>\n",
              "      <th>2020-12-31</th>\n",
              "      <td>0.081038</td>\n",
              "      <td>-0.041801</td>\n",
              "      <td>-0.027479</td>\n",
              "      <td>-0.050182</td>\n",
              "      <td>0.037048</td>\n",
              "    </tr>\n",
              "    <tr>\n",
              "      <th>2021-01-31</th>\n",
              "      <td>0.087821</td>\n",
              "      <td>0.265101</td>\n",
              "      <td>-0.058109</td>\n",
              "      <td>0.217099</td>\n",
              "      <td>-0.010190</td>\n",
              "    </tr>\n",
              "    <tr>\n",
              "      <th>2021-02-28</th>\n",
              "      <td>0.233125</td>\n",
              "      <td>0.074271</td>\n",
              "      <td>0.010046</td>\n",
              "      <td>0.012826</td>\n",
              "      <td>0.027805</td>\n",
              "    </tr>\n",
              "    <tr>\n",
              "      <th>2021-03-31</th>\n",
              "      <td>0.026853</td>\n",
              "      <td>0.148148</td>\n",
              "      <td>0.051537</td>\n",
              "      <td>0.119423</td>\n",
              "      <td>0.045399</td>\n",
              "    </tr>\n",
              "  </tbody>\n",
              "</table>\n",
              "<p>75 rows × 5 columns</p>\n",
              "</div>"
            ],
            "text/plain": [
              "Symbols          XOM       SWN        VZ        GM       SPY\n",
              "Date                                                        \n",
              "2015-01-31 -0.054408 -0.091609 -0.011313 -0.065597 -0.029629\n",
              "2015-02-28  0.020435  0.011698  0.081820  0.143777  0.056205\n",
              "2015-03-31 -0.039982 -0.075359 -0.016582  0.013344 -0.015706\n",
              "2015-04-30  0.027883  0.208711  0.048929 -0.065067  0.009834\n",
              "2015-05-31 -0.016772 -0.080628 -0.019826  0.025955  0.012856\n",
              "...              ...       ...       ...       ...       ...\n",
              "2020-11-30  0.197117  0.164794  0.060011  0.269621  0.108777\n",
              "2020-12-31  0.081038 -0.041801 -0.027479 -0.050182  0.037048\n",
              "2021-01-31  0.087821  0.265101 -0.058109  0.217099 -0.010190\n",
              "2021-02-28  0.233125  0.074271  0.010046  0.012826  0.027805\n",
              "2021-03-31  0.026853  0.148148  0.051537  0.119423  0.045399\n",
              "\n",
              "[75 rows x 5 columns]"
            ]
          },
          "metadata": {
            "tags": []
          },
          "execution_count": 73
        }
      ]
    },
    {
      "cell_type": "markdown",
      "metadata": {
        "id": "ERikkoX6lPug"
      },
      "source": [
        "## Log-Based Method"
      ]
    },
    {
      "cell_type": "markdown",
      "metadata": {
        "id": "J9a5BeKpxmm5"
      },
      "source": [
        "According to the **Log-Based Method**, the *monthly log returns* are computed as:\n",
        "\n",
        "$ \\LARGE \\ln (P_{Last}) - \\ln (P_{First}) $\n",
        "\n",
        "or equivalently\n",
        "\n",
        "$ \\LARGE \\ln \\frac{P_{Last}}{P_{First}} $\n",
        "\n",
        "Since $\\log (1+x) $ ~ $x$ according to the Taylor Series:\n",
        "\n",
        "$ \\LARGE \\ln \\frac{P_{Last}}{P_{First}} $ ~ $ \\LARGE \\frac{P_{Last} - P_{First}}{P_{First}}$\n",
        "\n",
        "therefore the PCT method can be considered a **fairly good approximation** for the actual Log-Based method.\n",
        "\n",
        "Nonetheless, we proceeded to compute the latter in order to achieve **better accuracy**.\n",
        "\n",
        "The .last() function groups daily adjusted prices into monthly bins by taking the price of the *last working day* of the month. \n"
      ]
    },
    {
      "cell_type": "code",
      "metadata": {
        "id": "EHV6D9KyKCfk",
        "colab": {
          "base_uri": "https://localhost:8080/",
          "height": 450
        },
        "outputId": "15de647d-4190-4fe8-b723-454f421edff2"
      },
      "source": [
        "new_price = price\n",
        "price_last = new_price.resample('M').last()\n",
        "price_last"
      ],
      "execution_count": null,
      "outputs": [
        {
          "output_type": "execute_result",
          "data": {
            "text/html": [
              "<div>\n",
              "<style scoped>\n",
              "    .dataframe tbody tr th:only-of-type {\n",
              "        vertical-align: middle;\n",
              "    }\n",
              "\n",
              "    .dataframe tbody tr th {\n",
              "        vertical-align: top;\n",
              "    }\n",
              "\n",
              "    .dataframe thead th {\n",
              "        text-align: right;\n",
              "    }\n",
              "</style>\n",
              "<table border=\"1\" class=\"dataframe\">\n",
              "  <thead>\n",
              "    <tr style=\"text-align: right;\">\n",
              "      <th>Symbols</th>\n",
              "      <th>XOM</th>\n",
              "      <th>SWN</th>\n",
              "      <th>VZ</th>\n",
              "      <th>GM</th>\n",
              "      <th>SPY</th>\n",
              "    </tr>\n",
              "    <tr>\n",
              "      <th>Date</th>\n",
              "      <th></th>\n",
              "      <th></th>\n",
              "      <th></th>\n",
              "      <th></th>\n",
              "      <th></th>\n",
              "    </tr>\n",
              "  </thead>\n",
              "  <tbody>\n",
              "    <tr>\n",
              "      <th>2014-12-31</th>\n",
              "      <td>69.394279</td>\n",
              "      <td>27.290001</td>\n",
              "      <td>34.963432</td>\n",
              "      <td>27.935520</td>\n",
              "      <td>182.247574</td>\n",
              "    </tr>\n",
              "    <tr>\n",
              "      <th>2015-01-31</th>\n",
              "      <td>65.618683</td>\n",
              "      <td>24.790001</td>\n",
              "      <td>34.567886</td>\n",
              "      <td>26.103025</td>\n",
              "      <td>176.847672</td>\n",
              "    </tr>\n",
              "    <tr>\n",
              "      <th>2015-02-28</th>\n",
              "      <td>66.959633</td>\n",
              "      <td>25.080000</td>\n",
              "      <td>37.396240</td>\n",
              "      <td>29.856035</td>\n",
              "      <td>186.787354</td>\n",
              "    </tr>\n",
              "    <tr>\n",
              "      <th>2015-03-31</th>\n",
              "      <td>64.282440</td>\n",
              "      <td>23.190001</td>\n",
              "      <td>36.776119</td>\n",
              "      <td>30.254448</td>\n",
              "      <td>183.853714</td>\n",
              "    </tr>\n",
              "    <tr>\n",
              "      <th>2015-04-30</th>\n",
              "      <td>66.074799</td>\n",
              "      <td>28.030001</td>\n",
              "      <td>38.575535</td>\n",
              "      <td>28.285892</td>\n",
              "      <td>185.661713</td>\n",
              "    </tr>\n",
              "    <tr>\n",
              "      <th>...</th>\n",
              "      <td>...</td>\n",
              "      <td>...</td>\n",
              "      <td>...</td>\n",
              "      <td>...</td>\n",
              "      <td>...</td>\n",
              "    </tr>\n",
              "    <tr>\n",
              "      <th>2020-11-30</th>\n",
              "      <td>37.493282</td>\n",
              "      <td>3.110000</td>\n",
              "      <td>59.133942</td>\n",
              "      <td>43.840000</td>\n",
              "      <td>359.346283</td>\n",
              "    </tr>\n",
              "    <tr>\n",
              "      <th>2020-12-31</th>\n",
              "      <td>40.531681</td>\n",
              "      <td>2.980000</td>\n",
              "      <td>57.509003</td>\n",
              "      <td>41.639999</td>\n",
              "      <td>372.659454</td>\n",
              "    </tr>\n",
              "    <tr>\n",
              "      <th>2021-01-31</th>\n",
              "      <td>44.091232</td>\n",
              "      <td>3.770000</td>\n",
              "      <td>54.167236</td>\n",
              "      <td>50.680000</td>\n",
              "      <td>368.861908</td>\n",
              "    </tr>\n",
              "    <tr>\n",
              "      <th>2021-02-28</th>\n",
              "      <td>54.369999</td>\n",
              "      <td>4.050000</td>\n",
              "      <td>54.711380</td>\n",
              "      <td>51.330002</td>\n",
              "      <td>379.118286</td>\n",
              "    </tr>\n",
              "    <tr>\n",
              "      <th>2021-03-31</th>\n",
              "      <td>55.830002</td>\n",
              "      <td>4.650000</td>\n",
              "      <td>57.531048</td>\n",
              "      <td>57.459999</td>\n",
              "      <td>396.329987</td>\n",
              "    </tr>\n",
              "  </tbody>\n",
              "</table>\n",
              "<p>76 rows × 5 columns</p>\n",
              "</div>"
            ],
            "text/plain": [
              "Symbols           XOM        SWN         VZ         GM         SPY\n",
              "Date                                                              \n",
              "2014-12-31  69.394279  27.290001  34.963432  27.935520  182.247574\n",
              "2015-01-31  65.618683  24.790001  34.567886  26.103025  176.847672\n",
              "2015-02-28  66.959633  25.080000  37.396240  29.856035  186.787354\n",
              "2015-03-31  64.282440  23.190001  36.776119  30.254448  183.853714\n",
              "2015-04-30  66.074799  28.030001  38.575535  28.285892  185.661713\n",
              "...               ...        ...        ...        ...         ...\n",
              "2020-11-30  37.493282   3.110000  59.133942  43.840000  359.346283\n",
              "2020-12-31  40.531681   2.980000  57.509003  41.639999  372.659454\n",
              "2021-01-31  44.091232   3.770000  54.167236  50.680000  368.861908\n",
              "2021-02-28  54.369999   4.050000  54.711380  51.330002  379.118286\n",
              "2021-03-31  55.830002   4.650000  57.531048  57.459999  396.329987\n",
              "\n",
              "[76 rows x 5 columns]"
            ]
          },
          "metadata": {
            "tags": []
          },
          "execution_count": 74
        }
      ]
    },
    {
      "cell_type": "code",
      "metadata": {
        "id": "Hl7V8PAHL7Kr",
        "colab": {
          "base_uri": "https://localhost:8080/",
          "height": 235
        },
        "outputId": "a41ca443-f5fc-4c4e-d52e-4e8955609954"
      },
      "source": [
        "log_ret = pd.DataFrame()\n",
        "log_ret['XOM'] = np.log(price_last.XOM) - np.log(price_last.XOM.shift(1))\n",
        "log_ret['SWN'] = np.log(price_last.SWN) - np.log(price_last.SWN.shift(1))\n",
        "log_ret['VZ'] = np.log(price_last.VZ) - np.log(price_last.VZ.shift(1))\n",
        "log_ret['GM'] = np.log(price_last.GM) - np.log(price_last.GM.shift(1)) \n",
        "log_ret['SPY'] = np.log(price_last.SPY) - np.log(price_last.SPY.shift(1)) \n",
        "log_ret = log_ret.dropna(axis=0) #dropping first row\n",
        "log_ret.head()"
      ],
      "execution_count": null,
      "outputs": [
        {
          "output_type": "execute_result",
          "data": {
            "text/html": [
              "<div>\n",
              "<style scoped>\n",
              "    .dataframe tbody tr th:only-of-type {\n",
              "        vertical-align: middle;\n",
              "    }\n",
              "\n",
              "    .dataframe tbody tr th {\n",
              "        vertical-align: top;\n",
              "    }\n",
              "\n",
              "    .dataframe thead th {\n",
              "        text-align: right;\n",
              "    }\n",
              "</style>\n",
              "<table border=\"1\" class=\"dataframe\">\n",
              "  <thead>\n",
              "    <tr style=\"text-align: right;\">\n",
              "      <th></th>\n",
              "      <th>XOM</th>\n",
              "      <th>SWN</th>\n",
              "      <th>VZ</th>\n",
              "      <th>GM</th>\n",
              "      <th>SPY</th>\n",
              "    </tr>\n",
              "    <tr>\n",
              "      <th>Date</th>\n",
              "      <th></th>\n",
              "      <th></th>\n",
              "      <th></th>\n",
              "      <th></th>\n",
              "      <th></th>\n",
              "    </tr>\n",
              "  </thead>\n",
              "  <tbody>\n",
              "    <tr>\n",
              "      <th>2015-01-31</th>\n",
              "      <td>-0.055944</td>\n",
              "      <td>-0.096080</td>\n",
              "      <td>-0.011378</td>\n",
              "      <td>-0.067848</td>\n",
              "      <td>-0.030077</td>\n",
              "    </tr>\n",
              "    <tr>\n",
              "      <th>2015-02-28</th>\n",
              "      <td>0.020229</td>\n",
              "      <td>0.011630</td>\n",
              "      <td>0.078645</td>\n",
              "      <td>0.134336</td>\n",
              "      <td>0.054682</td>\n",
              "    </tr>\n",
              "    <tr>\n",
              "      <th>2015-03-31</th>\n",
              "      <td>-0.040803</td>\n",
              "      <td>-0.078350</td>\n",
              "      <td>-0.016721</td>\n",
              "      <td>0.013256</td>\n",
              "      <td>-0.015830</td>\n",
              "    </tr>\n",
              "    <tr>\n",
              "      <th>2015-04-30</th>\n",
              "      <td>0.027501</td>\n",
              "      <td>0.189554</td>\n",
              "      <td>0.047770</td>\n",
              "      <td>-0.067280</td>\n",
              "      <td>0.009786</td>\n",
              "    </tr>\n",
              "    <tr>\n",
              "      <th>2015-05-31</th>\n",
              "      <td>-0.016914</td>\n",
              "      <td>-0.084064</td>\n",
              "      <td>-0.020025</td>\n",
              "      <td>0.025624</td>\n",
              "      <td>0.012774</td>\n",
              "    </tr>\n",
              "  </tbody>\n",
              "</table>\n",
              "</div>"
            ],
            "text/plain": [
              "                 XOM       SWN        VZ        GM       SPY\n",
              "Date                                                        \n",
              "2015-01-31 -0.055944 -0.096080 -0.011378 -0.067848 -0.030077\n",
              "2015-02-28  0.020229  0.011630  0.078645  0.134336  0.054682\n",
              "2015-03-31 -0.040803 -0.078350 -0.016721  0.013256 -0.015830\n",
              "2015-04-30  0.027501  0.189554  0.047770 -0.067280  0.009786\n",
              "2015-05-31 -0.016914 -0.084064 -0.020025  0.025624  0.012774"
            ]
          },
          "metadata": {
            "tags": []
          },
          "execution_count": 75
        }
      ]
    },
    {
      "cell_type": "markdown",
      "metadata": {
        "id": "Q94f0__Dmtw3"
      },
      "source": [
        "#**Step 3: Constructing the porfolio**"
      ]
    },
    {
      "cell_type": "markdown",
      "metadata": {
        "id": "CnlBzFeq57TB"
      },
      "source": [
        "After constructing our portofolio according to the previously chosen weights, we went ahead by calculating the **portfolio returns** for each month (as the *weighted sum* of the Log-Based monthly returns for each ETF)"
      ]
    },
    {
      "cell_type": "code",
      "metadata": {
        "id": "nMgm1UIDnicp"
      },
      "source": [
        "#Computing portfolio monthly returns\n",
        "portfolio_df = log_ret[['XOM','SWN','VZ','GM']]\n",
        "portfolio = (portfolio_df * weights).sum(axis = 1)"
      ],
      "execution_count": null,
      "outputs": []
    },
    {
      "cell_type": "code",
      "metadata": {
        "id": "D8SQdEkq4HsW"
      },
      "source": [
        "#Creating a new dataframe containing both portfolio and SPY monthly returns\n",
        "portfolio_dataframe = pd.DataFrame()\n",
        "portfolio_dataframe['PORTFOLIO'] = portfolio\n",
        "portfolio_dataframe['SPY'] = log_ret['SPY']"
      ],
      "execution_count": null,
      "outputs": []
    },
    {
      "cell_type": "code",
      "metadata": {
        "id": "LVSECVLt5FPa",
        "colab": {
          "base_uri": "https://localhost:8080/",
          "height": 450
        },
        "outputId": "7fb983c2-f941-4829-ffba-1acc16e399fb"
      },
      "source": [
        "portfolio_dataframe"
      ],
      "execution_count": null,
      "outputs": [
        {
          "output_type": "execute_result",
          "data": {
            "text/html": [
              "<div>\n",
              "<style scoped>\n",
              "    .dataframe tbody tr th:only-of-type {\n",
              "        vertical-align: middle;\n",
              "    }\n",
              "\n",
              "    .dataframe tbody tr th {\n",
              "        vertical-align: top;\n",
              "    }\n",
              "\n",
              "    .dataframe thead th {\n",
              "        text-align: right;\n",
              "    }\n",
              "</style>\n",
              "<table border=\"1\" class=\"dataframe\">\n",
              "  <thead>\n",
              "    <tr style=\"text-align: right;\">\n",
              "      <th></th>\n",
              "      <th>PORTFOLIO</th>\n",
              "      <th>SPY</th>\n",
              "    </tr>\n",
              "    <tr>\n",
              "      <th>Date</th>\n",
              "      <th></th>\n",
              "      <th></th>\n",
              "    </tr>\n",
              "  </thead>\n",
              "  <tbody>\n",
              "    <tr>\n",
              "      <th>2015-01-31</th>\n",
              "      <td>-0.056996</td>\n",
              "      <td>-0.030077</td>\n",
              "    </tr>\n",
              "    <tr>\n",
              "      <th>2015-02-28</th>\n",
              "      <td>0.057996</td>\n",
              "      <td>0.054682</td>\n",
              "    </tr>\n",
              "    <tr>\n",
              "      <th>2015-03-31</th>\n",
              "      <td>-0.034031</td>\n",
              "      <td>-0.015830</td>\n",
              "    </tr>\n",
              "    <tr>\n",
              "      <th>2015-04-30</th>\n",
              "      <td>0.063241</td>\n",
              "      <td>0.009786</td>\n",
              "    </tr>\n",
              "    <tr>\n",
              "      <th>2015-05-31</th>\n",
              "      <td>-0.029485</td>\n",
              "      <td>0.012774</td>\n",
              "    </tr>\n",
              "    <tr>\n",
              "      <th>...</th>\n",
              "      <td>...</td>\n",
              "      <td>...</td>\n",
              "    </tr>\n",
              "    <tr>\n",
              "      <th>2020-11-30</th>\n",
              "      <td>0.146974</td>\n",
              "      <td>0.103258</td>\n",
              "    </tr>\n",
              "    <tr>\n",
              "      <th>2020-12-31</th>\n",
              "      <td>-0.015882</td>\n",
              "      <td>0.036379</td>\n",
              "    </tr>\n",
              "    <tr>\n",
              "      <th>2021-01-31</th>\n",
              "      <td>0.108715</td>\n",
              "      <td>-0.010243</td>\n",
              "    </tr>\n",
              "    <tr>\n",
              "      <th>2021-02-28</th>\n",
              "      <td>0.068950</td>\n",
              "      <td>0.027426</td>\n",
              "    </tr>\n",
              "    <tr>\n",
              "      <th>2021-03-31</th>\n",
              "      <td>0.084384</td>\n",
              "      <td>0.044399</td>\n",
              "    </tr>\n",
              "  </tbody>\n",
              "</table>\n",
              "<p>75 rows × 2 columns</p>\n",
              "</div>"
            ],
            "text/plain": [
              "            PORTFOLIO       SPY\n",
              "Date                           \n",
              "2015-01-31  -0.056996 -0.030077\n",
              "2015-02-28   0.057996  0.054682\n",
              "2015-03-31  -0.034031 -0.015830\n",
              "2015-04-30   0.063241  0.009786\n",
              "2015-05-31  -0.029485  0.012774\n",
              "...               ...       ...\n",
              "2020-11-30   0.146974  0.103258\n",
              "2020-12-31  -0.015882  0.036379\n",
              "2021-01-31   0.108715 -0.010243\n",
              "2021-02-28   0.068950  0.027426\n",
              "2021-03-31   0.084384  0.044399\n",
              "\n",
              "[75 rows x 2 columns]"
            ]
          },
          "metadata": {
            "tags": []
          },
          "execution_count": 78
        }
      ]
    },
    {
      "cell_type": "markdown",
      "metadata": {
        "id": "BZj8db43oVOY"
      },
      "source": [
        "#**Step 4: Using CAPM formula**"
      ]
    },
    {
      "cell_type": "markdown",
      "metadata": {
        "id": "OIs1p0XQocCx"
      },
      "source": [
        "The main message of the **Capital Asset Pricing Model** (**CAPM**) is that the expected risk premium of a portfolio changes in *direct proportion* to β.\n",
        "\n",
        "Specifically the **risk premium** is definied as:\n",
        "\n",
        "$R - R_f$\n",
        "\n",
        "where $R_f$ is the so called **Risk-free rate** which is the risk of an asset with β = 0.\n",
        "\n",
        "The **CAPM formula** is as follows:\n",
        "\n",
        "$R - R_f = β (R_m-R_f)$\n",
        "\n",
        "We first **fetched** $R_f$ from the **Fama-French Data Library** at \n",
        "http://mba.tuck.dartmouth.edu/pages/faculty/ken.french/data_library.html \n",
        "and **subtracted** it from both the portfolio and the benchmark market return."
      ]
    },
    {
      "cell_type": "code",
      "metadata": {
        "id": "xOmvBvOp8FkL"
      },
      "source": [
        "rf = reader.DataReader('F-F_Research_Data_Factors','famafrench', '2014-12-31', '2021-03-31')[0].RF"
      ],
      "execution_count": null,
      "outputs": []
    },
    {
      "cell_type": "code",
      "metadata": {
        "id": "7mYAR63aAh8x",
        "colab": {
          "base_uri": "https://localhost:8080/",
          "height": 450
        },
        "outputId": "3368211d-1147-45e0-8873-5b8c6a0e3e9b"
      },
      "source": [
        "portfolio_dataframe = portfolio_dataframe[:-1]\n",
        "portfolio_dataframe"
      ],
      "execution_count": null,
      "outputs": [
        {
          "output_type": "execute_result",
          "data": {
            "text/html": [
              "<div>\n",
              "<style scoped>\n",
              "    .dataframe tbody tr th:only-of-type {\n",
              "        vertical-align: middle;\n",
              "    }\n",
              "\n",
              "    .dataframe tbody tr th {\n",
              "        vertical-align: top;\n",
              "    }\n",
              "\n",
              "    .dataframe thead th {\n",
              "        text-align: right;\n",
              "    }\n",
              "</style>\n",
              "<table border=\"1\" class=\"dataframe\">\n",
              "  <thead>\n",
              "    <tr style=\"text-align: right;\">\n",
              "      <th></th>\n",
              "      <th>PORTFOLIO</th>\n",
              "      <th>SPY</th>\n",
              "    </tr>\n",
              "    <tr>\n",
              "      <th>Date</th>\n",
              "      <th></th>\n",
              "      <th></th>\n",
              "    </tr>\n",
              "  </thead>\n",
              "  <tbody>\n",
              "    <tr>\n",
              "      <th>2015-01-31</th>\n",
              "      <td>-0.056996</td>\n",
              "      <td>-0.030077</td>\n",
              "    </tr>\n",
              "    <tr>\n",
              "      <th>2015-02-28</th>\n",
              "      <td>0.057996</td>\n",
              "      <td>0.054682</td>\n",
              "    </tr>\n",
              "    <tr>\n",
              "      <th>2015-03-31</th>\n",
              "      <td>-0.034031</td>\n",
              "      <td>-0.015830</td>\n",
              "    </tr>\n",
              "    <tr>\n",
              "      <th>2015-04-30</th>\n",
              "      <td>0.063241</td>\n",
              "      <td>0.009786</td>\n",
              "    </tr>\n",
              "    <tr>\n",
              "      <th>2015-05-31</th>\n",
              "      <td>-0.029485</td>\n",
              "      <td>0.012774</td>\n",
              "    </tr>\n",
              "    <tr>\n",
              "      <th>...</th>\n",
              "      <td>...</td>\n",
              "      <td>...</td>\n",
              "    </tr>\n",
              "    <tr>\n",
              "      <th>2020-10-31</th>\n",
              "      <td>0.049256</td>\n",
              "      <td>-0.025250</td>\n",
              "    </tr>\n",
              "    <tr>\n",
              "      <th>2020-11-30</th>\n",
              "      <td>0.146974</td>\n",
              "      <td>0.103258</td>\n",
              "    </tr>\n",
              "    <tr>\n",
              "      <th>2020-12-31</th>\n",
              "      <td>-0.015882</td>\n",
              "      <td>0.036379</td>\n",
              "    </tr>\n",
              "    <tr>\n",
              "      <th>2021-01-31</th>\n",
              "      <td>0.108715</td>\n",
              "      <td>-0.010243</td>\n",
              "    </tr>\n",
              "    <tr>\n",
              "      <th>2021-02-28</th>\n",
              "      <td>0.068950</td>\n",
              "      <td>0.027426</td>\n",
              "    </tr>\n",
              "  </tbody>\n",
              "</table>\n",
              "<p>74 rows × 2 columns</p>\n",
              "</div>"
            ],
            "text/plain": [
              "            PORTFOLIO       SPY\n",
              "Date                           \n",
              "2015-01-31  -0.056996 -0.030077\n",
              "2015-02-28   0.057996  0.054682\n",
              "2015-03-31  -0.034031 -0.015830\n",
              "2015-04-30   0.063241  0.009786\n",
              "2015-05-31  -0.029485  0.012774\n",
              "...               ...       ...\n",
              "2020-10-31   0.049256 -0.025250\n",
              "2020-11-30   0.146974  0.103258\n",
              "2020-12-31  -0.015882  0.036379\n",
              "2021-01-31   0.108715 -0.010243\n",
              "2021-02-28   0.068950  0.027426\n",
              "\n",
              "[74 rows x 2 columns]"
            ]
          },
          "metadata": {
            "tags": []
          },
          "execution_count": 80
        }
      ]
    },
    {
      "cell_type": "code",
      "metadata": {
        "id": "MibydeLc9q9f"
      },
      "source": [
        "rf = rf[1:]"
      ],
      "execution_count": null,
      "outputs": []
    },
    {
      "cell_type": "code",
      "metadata": {
        "id": "RkYDsb_M9wrl",
        "colab": {
          "base_uri": "https://localhost:8080/"
        },
        "outputId": "859754e1-8568-4238-fe35-3990c74ec9f1"
      },
      "source": [
        "portfolio_dataframe['PORTFOLIO-rf'], portfolio_dataframe['SPY-rf'] = portfolio_dataframe['PORTFOLIO'] - rf.values, portfolio_dataframe['SPY'] - rf.values "
      ],
      "execution_count": null,
      "outputs": [
        {
          "output_type": "stream",
          "text": [
            "/usr/local/lib/python3.7/dist-packages/ipykernel_launcher.py:1: SettingWithCopyWarning: \n",
            "A value is trying to be set on a copy of a slice from a DataFrame.\n",
            "Try using .loc[row_indexer,col_indexer] = value instead\n",
            "\n",
            "See the caveats in the documentation: https://pandas.pydata.org/pandas-docs/stable/user_guide/indexing.html#returning-a-view-versus-a-copy\n",
            "  \"\"\"Entry point for launching an IPython kernel.\n"
          ],
          "name": "stderr"
        }
      ]
    },
    {
      "cell_type": "code",
      "metadata": {
        "id": "Jjb95dk9-Yzd",
        "colab": {
          "base_uri": "https://localhost:8080/",
          "height": 450
        },
        "outputId": "3193ecb9-dd4f-4882-ce33-b4101a134ece"
      },
      "source": [
        "portfolio_dataframe"
      ],
      "execution_count": null,
      "outputs": [
        {
          "output_type": "execute_result",
          "data": {
            "text/html": [
              "<div>\n",
              "<style scoped>\n",
              "    .dataframe tbody tr th:only-of-type {\n",
              "        vertical-align: middle;\n",
              "    }\n",
              "\n",
              "    .dataframe tbody tr th {\n",
              "        vertical-align: top;\n",
              "    }\n",
              "\n",
              "    .dataframe thead th {\n",
              "        text-align: right;\n",
              "    }\n",
              "</style>\n",
              "<table border=\"1\" class=\"dataframe\">\n",
              "  <thead>\n",
              "    <tr style=\"text-align: right;\">\n",
              "      <th></th>\n",
              "      <th>PORTFOLIO</th>\n",
              "      <th>SPY</th>\n",
              "      <th>PORTFOLIO-rf</th>\n",
              "      <th>SPY-rf</th>\n",
              "    </tr>\n",
              "    <tr>\n",
              "      <th>Date</th>\n",
              "      <th></th>\n",
              "      <th></th>\n",
              "      <th></th>\n",
              "      <th></th>\n",
              "    </tr>\n",
              "  </thead>\n",
              "  <tbody>\n",
              "    <tr>\n",
              "      <th>2015-01-31</th>\n",
              "      <td>-0.056996</td>\n",
              "      <td>-0.030077</td>\n",
              "      <td>-0.056996</td>\n",
              "      <td>-0.030077</td>\n",
              "    </tr>\n",
              "    <tr>\n",
              "      <th>2015-02-28</th>\n",
              "      <td>0.057996</td>\n",
              "      <td>0.054682</td>\n",
              "      <td>0.057996</td>\n",
              "      <td>0.054682</td>\n",
              "    </tr>\n",
              "    <tr>\n",
              "      <th>2015-03-31</th>\n",
              "      <td>-0.034031</td>\n",
              "      <td>-0.015830</td>\n",
              "      <td>-0.034031</td>\n",
              "      <td>-0.015830</td>\n",
              "    </tr>\n",
              "    <tr>\n",
              "      <th>2015-04-30</th>\n",
              "      <td>0.063241</td>\n",
              "      <td>0.009786</td>\n",
              "      <td>0.063241</td>\n",
              "      <td>0.009786</td>\n",
              "    </tr>\n",
              "    <tr>\n",
              "      <th>2015-05-31</th>\n",
              "      <td>-0.029485</td>\n",
              "      <td>0.012774</td>\n",
              "      <td>-0.029485</td>\n",
              "      <td>0.012774</td>\n",
              "    </tr>\n",
              "    <tr>\n",
              "      <th>...</th>\n",
              "      <td>...</td>\n",
              "      <td>...</td>\n",
              "      <td>...</td>\n",
              "      <td>...</td>\n",
              "    </tr>\n",
              "    <tr>\n",
              "      <th>2020-10-31</th>\n",
              "      <td>0.049256</td>\n",
              "      <td>-0.025250</td>\n",
              "      <td>0.039256</td>\n",
              "      <td>-0.035250</td>\n",
              "    </tr>\n",
              "    <tr>\n",
              "      <th>2020-11-30</th>\n",
              "      <td>0.146974</td>\n",
              "      <td>0.103258</td>\n",
              "      <td>0.136974</td>\n",
              "      <td>0.093258</td>\n",
              "    </tr>\n",
              "    <tr>\n",
              "      <th>2020-12-31</th>\n",
              "      <td>-0.015882</td>\n",
              "      <td>0.036379</td>\n",
              "      <td>-0.025882</td>\n",
              "      <td>0.026379</td>\n",
              "    </tr>\n",
              "    <tr>\n",
              "      <th>2021-01-31</th>\n",
              "      <td>0.108715</td>\n",
              "      <td>-0.010243</td>\n",
              "      <td>0.108715</td>\n",
              "      <td>-0.010243</td>\n",
              "    </tr>\n",
              "    <tr>\n",
              "      <th>2021-02-28</th>\n",
              "      <td>0.068950</td>\n",
              "      <td>0.027426</td>\n",
              "      <td>0.068950</td>\n",
              "      <td>0.027426</td>\n",
              "    </tr>\n",
              "  </tbody>\n",
              "</table>\n",
              "<p>74 rows × 4 columns</p>\n",
              "</div>"
            ],
            "text/plain": [
              "            PORTFOLIO       SPY  PORTFOLIO-rf    SPY-rf\n",
              "Date                                                   \n",
              "2015-01-31  -0.056996 -0.030077     -0.056996 -0.030077\n",
              "2015-02-28   0.057996  0.054682      0.057996  0.054682\n",
              "2015-03-31  -0.034031 -0.015830     -0.034031 -0.015830\n",
              "2015-04-30   0.063241  0.009786      0.063241  0.009786\n",
              "2015-05-31  -0.029485  0.012774     -0.029485  0.012774\n",
              "...               ...       ...           ...       ...\n",
              "2020-10-31   0.049256 -0.025250      0.039256 -0.035250\n",
              "2020-11-30   0.146974  0.103258      0.136974  0.093258\n",
              "2020-12-31  -0.015882  0.036379     -0.025882  0.026379\n",
              "2021-01-31   0.108715 -0.010243      0.108715 -0.010243\n",
              "2021-02-28   0.068950  0.027426      0.068950  0.027426\n",
              "\n",
              "[74 rows x 4 columns]"
            ]
          },
          "metadata": {
            "tags": []
          },
          "execution_count": 83
        }
      ]
    },
    {
      "cell_type": "markdown",
      "metadata": {
        "id": "YhlzaCYo8uGB"
      },
      "source": [
        "We procedeed by setting up and fitting an **Ordinary Least Squares (OLS)** model, taking **SPY-rf** as the independent variable and **PORTFOLIO-rf** as the dependent variable. \n",
        "\n",
        "The summary exhibits:\n",
        "\n",
        "A ß of 1.0695, suggesting that the risk of our portfolio follows the movement of the market risk, **slightly magnifying** its effect. i.e. If the market risk premium goes up by 1%, then our porfolio risk premium will increase by 1.0695% \n",
        "\n",
        "We can conclude that the model is **statistically significant**, since the *P-Value* of the estimated coefficient is *very low* (*P-Value* < $10^{-3}$). \n",
        "Moreover, the *R-squared* of 0.663 suggests that a **substantial portion of variability** has been explained by this model (the percentage is rather good considering that we have only 1 predictor). "
      ]
    },
    {
      "cell_type": "code",
      "metadata": {
        "id": "XmsCe8Q6-Z5C",
        "colab": {
          "base_uri": "https://localhost:8080/",
          "height": 444
        },
        "outputId": "781dd7ef-b052-4c70-ad7f-80eef99c8844"
      },
      "source": [
        "X_rf = portfolio_dataframe['SPY-rf']\n",
        "y_rf = portfolio_dataframe['PORTFOLIO-rf']\n",
        "x_rf = sm.add_constant(X_rf) #An intercept is not included by default and should be added by the user \n",
        "model_rf = sm.OLS(y_rf,x_rf)\n",
        "results_rf = model_rf.fit()\n",
        "results_rf.summary()"
      ],
      "execution_count": null,
      "outputs": [
        {
          "output_type": "execute_result",
          "data": {
            "text/html": [
              "<table class=\"simpletable\">\n",
              "<caption>OLS Regression Results</caption>\n",
              "<tr>\n",
              "  <th>Dep. Variable:</th>      <td>PORTFOLIO-rf</td>   <th>  R-squared:         </th> <td>   0.663</td>\n",
              "</tr>\n",
              "<tr>\n",
              "  <th>Model:</th>                   <td>OLS</td>       <th>  Adj. R-squared:    </th> <td>   0.659</td>\n",
              "</tr>\n",
              "<tr>\n",
              "  <th>Method:</th>             <td>Least Squares</td>  <th>  F-statistic:       </th> <td>   141.9</td>\n",
              "</tr>\n",
              "<tr>\n",
              "  <th>Date:</th>             <td>Tue, 13 Apr 2021</td> <th>  Prob (F-statistic):</th> <td>1.08e-18</td>\n",
              "</tr>\n",
              "<tr>\n",
              "  <th>Time:</th>                 <td>21:19:25</td>     <th>  Log-Likelihood:    </th> <td>  95.618</td>\n",
              "</tr>\n",
              "<tr>\n",
              "  <th>No. Observations:</th>      <td>    74</td>      <th>  AIC:               </th> <td>  -187.2</td>\n",
              "</tr>\n",
              "<tr>\n",
              "  <th>Df Residuals:</th>          <td>    72</td>      <th>  BIC:               </th> <td>  -182.6</td>\n",
              "</tr>\n",
              "<tr>\n",
              "  <th>Df Model:</th>              <td>     1</td>      <th>                     </th>     <td> </td>   \n",
              "</tr>\n",
              "<tr>\n",
              "  <th>Covariance Type:</th>      <td>nonrobust</td>    <th>                     </th>     <td> </td>   \n",
              "</tr>\n",
              "</table>\n",
              "<table class=\"simpletable\">\n",
              "<tr>\n",
              "     <td></td>       <th>coef</th>     <th>std err</th>      <th>t</th>      <th>P>|t|</th>  <th>[0.025</th>    <th>0.975]</th>  \n",
              "</tr>\n",
              "<tr>\n",
              "  <th>const</th>  <td>   -0.0105</td> <td>    0.010</td> <td>   -1.086</td> <td> 0.281</td> <td>   -0.030</td> <td>    0.009</td>\n",
              "</tr>\n",
              "<tr>\n",
              "  <th>SPY-rf</th> <td>    1.0695</td> <td>    0.090</td> <td>   11.912</td> <td> 0.000</td> <td>    0.891</td> <td>    1.249</td>\n",
              "</tr>\n",
              "</table>\n",
              "<table class=\"simpletable\">\n",
              "<tr>\n",
              "  <th>Omnibus:</th>       <td> 1.626</td> <th>  Durbin-Watson:     </th> <td>   2.077</td>\n",
              "</tr>\n",
              "<tr>\n",
              "  <th>Prob(Omnibus):</th> <td> 0.444</td> <th>  Jarque-Bera (JB):  </th> <td>   1.577</td>\n",
              "</tr>\n",
              "<tr>\n",
              "  <th>Skew:</th>          <td> 0.342</td> <th>  Prob(JB):          </th> <td>   0.455</td>\n",
              "</tr>\n",
              "<tr>\n",
              "  <th>Kurtosis:</th>      <td> 2.788</td> <th>  Cond. No.          </th> <td>    11.5</td>\n",
              "</tr>\n",
              "</table><br/><br/>Warnings:<br/>[1] Standard Errors assume that the covariance matrix of the errors is correctly specified."
            ],
            "text/plain": [
              "<class 'statsmodels.iolib.summary.Summary'>\n",
              "\"\"\"\n",
              "                            OLS Regression Results                            \n",
              "==============================================================================\n",
              "Dep. Variable:           PORTFOLIO-rf   R-squared:                       0.663\n",
              "Model:                            OLS   Adj. R-squared:                  0.659\n",
              "Method:                 Least Squares   F-statistic:                     141.9\n",
              "Date:                Tue, 13 Apr 2021   Prob (F-statistic):           1.08e-18\n",
              "Time:                        21:19:25   Log-Likelihood:                 95.618\n",
              "No. Observations:                  74   AIC:                            -187.2\n",
              "Df Residuals:                      72   BIC:                            -182.6\n",
              "Df Model:                           1                                         \n",
              "Covariance Type:            nonrobust                                         \n",
              "==============================================================================\n",
              "                 coef    std err          t      P>|t|      [0.025      0.975]\n",
              "------------------------------------------------------------------------------\n",
              "const         -0.0105      0.010     -1.086      0.281      -0.030       0.009\n",
              "SPY-rf         1.0695      0.090     11.912      0.000       0.891       1.249\n",
              "==============================================================================\n",
              "Omnibus:                        1.626   Durbin-Watson:                   2.077\n",
              "Prob(Omnibus):                  0.444   Jarque-Bera (JB):                1.577\n",
              "Skew:                           0.342   Prob(JB):                        0.455\n",
              "Kurtosis:                       2.788   Cond. No.                         11.5\n",
              "==============================================================================\n",
              "\n",
              "Warnings:\n",
              "[1] Standard Errors assume that the covariance matrix of the errors is correctly specified.\n",
              "\"\"\""
            ]
          },
          "metadata": {
            "tags": []
          },
          "execution_count": 84
        }
      ]
    },
    {
      "cell_type": "code",
      "metadata": {
        "id": "inyyysGMGjIS",
        "colab": {
          "base_uri": "https://localhost:8080/"
        },
        "outputId": "5eb3fc6e-966a-4f32-e778-1e4337e221df"
      },
      "source": [
        "results_rf.params"
      ],
      "execution_count": null,
      "outputs": [
        {
          "output_type": "execute_result",
          "data": {
            "text/plain": [
              "const    -0.010475\n",
              "SPY-rf    1.069541\n",
              "dtype: float64"
            ]
          },
          "metadata": {
            "tags": []
          },
          "execution_count": 85
        }
      ]
    },
    {
      "cell_type": "markdown",
      "metadata": {
        "id": "1Ic0JeRQ_eTd"
      },
      "source": [
        "Finally, we plotted the results of the linear regression.\n",
        "\n",
        "In light blue we can see the **95% confidence intervals** for the two estimated coefficients (α and β) "
      ]
    },
    {
      "cell_type": "code",
      "metadata": {
        "id": "8orhrLkGCkwa",
        "colab": {
          "base_uri": "https://localhost:8080/",
          "height": 299
        },
        "outputId": "23ecf78b-cd3f-45cb-fba0-670f76d60381"
      },
      "source": [
        "sns.regplot(x='SPY-rf', y='PORTFOLIO-rf', data=portfolio_dataframe)"
      ],
      "execution_count": null,
      "outputs": [
        {
          "output_type": "execute_result",
          "data": {
            "text/plain": [
              "<matplotlib.axes._subplots.AxesSubplot at 0x7fd1818298d0>"
            ]
          },
          "metadata": {
            "tags": []
          },
          "execution_count": 86
        },
        {
          "output_type": "display_data",
          "data": {
            "image/png": "[encoded data removed]",
            "text/plain": [
              "<Figure size 432x288 with 1 Axes>"
            ]
          },
          "metadata": {
            "tags": [],
            "needs_background": "light"
          }
        }
      ]
    },
    {
      "cell_type": "markdown",
      "metadata": {
        "id": "bwGBOYRACz_8"
      },
      "source": [
        "# **Step 5: Changing the weights**"
      ]
    },
    {
      "cell_type": "markdown",
      "metadata": {
        "id": "a1aV2IxDAEna"
      },
      "source": [
        "We lastly **experimented** with the vector of weights, trying out different combinations; we present one setting that entails a **significant change** in the ß coefficient"
      ]
    },
    {
      "cell_type": "code",
      "metadata": {
        "id": "ZVnWgyG9C2Fw",
        "colab": {
          "base_uri": "https://localhost:8080/",
          "height": 296
        },
        "outputId": "808fbab0-f586-491d-9c6c-aa7d6e2e7700"
      },
      "source": [
        "new_weights = [0.05,0.05,0.8,0.1]\n",
        "\n",
        "#Computing portfolio monthly returns\n",
        "portfolio_df_new = log_ret[['XOM','SWN','VZ','GM']]\n",
        "portfolio_new = (portfolio_df_new * new_weights).sum(axis = 1)\n",
        "\n",
        "portfolio_dataframe_new = pd.DataFrame()\n",
        "portfolio_dataframe_new['PORTFOLIO'] = portfolio_new\n",
        "portfolio_dataframe_new['SPY'] = log_ret['SPY']\n",
        "\n",
        "portfolio_dataframe_new = portfolio_dataframe_new[:-1]\n",
        "portfolio_dataframe_new['PORTFOLIO-rf'], portfolio_dataframe_new['SPY-rf'] = portfolio_dataframe_new['PORTFOLIO'] - rf.values, portfolio_dataframe_new['SPY'] - rf.values \n",
        "\n",
        "X_rf_new = portfolio_dataframe_new['SPY-rf']\n",
        "y_rf_new = portfolio_dataframe_new['PORTFOLIO-rf']\n",
        "x_rf_new = sm.add_constant(X_rf_new) \n",
        "\n",
        "model_rf_new = sm.OLS(y_rf_new,x_rf_new)\n",
        "results_rf_new = model_rf_new.fit()\n",
        "\n",
        "sns.regplot(x='SPY-rf', y='PORTFOLIO-rf', data=portfolio_dataframe_new)"
      ],
      "execution_count": null,
      "outputs": [
        {
          "output_type": "execute_result",
          "data": {
            "text/plain": [
              "<matplotlib.axes._subplots.AxesSubplot at 0x7fd181870c90>"
            ]
          },
          "metadata": {
            "tags": []
          },
          "execution_count": 87
        },
        {
          "output_type": "display_data",
          "data": {
            "image/png": "[encoded data removed]",
            "text/plain": [
              "<Figure size 432x288 with 1 Axes>"
            ]
          },
          "metadata": {
            "tags": [],
            "needs_background": "light"
          }
        }
      ]
    },
    {
      "cell_type": "code",
      "metadata": {
        "id": "IxHHTgwBFCK3",
        "colab": {
          "base_uri": "https://localhost:8080/",
          "height": 444
        },
        "outputId": "3a21566b-ae9b-4640-d1fe-d54b64db9b4d"
      },
      "source": [
        "results_rf_new.summary()"
      ],
      "execution_count": null,
      "outputs": [
        {
          "output_type": "execute_result",
          "data": {
            "text/html": [
              "<table class=\"simpletable\">\n",
              "<caption>OLS Regression Results</caption>\n",
              "<tr>\n",
              "  <th>Dep. Variable:</th>      <td>PORTFOLIO-rf</td>   <th>  R-squared:         </th> <td>   0.799</td>\n",
              "</tr>\n",
              "<tr>\n",
              "  <th>Model:</th>                   <td>OLS</td>       <th>  Adj. R-squared:    </th> <td>   0.796</td>\n",
              "</tr>\n",
              "<tr>\n",
              "  <th>Method:</th>             <td>Least Squares</td>  <th>  F-statistic:       </th> <td>   286.0</td>\n",
              "</tr>\n",
              "<tr>\n",
              "  <th>Date:</th>             <td>Tue, 13 Apr 2021</td> <th>  Prob (F-statistic):</th> <td>8.81e-27</td>\n",
              "</tr>\n",
              "<tr>\n",
              "  <th>Time:</th>                 <td>21:19:26</td>     <th>  Log-Likelihood:    </th> <td>  134.72</td>\n",
              "</tr>\n",
              "<tr>\n",
              "  <th>No. Observations:</th>      <td>    74</td>      <th>  AIC:               </th> <td>  -265.4</td>\n",
              "</tr>\n",
              "<tr>\n",
              "  <th>Df Residuals:</th>          <td>    72</td>      <th>  BIC:               </th> <td>  -260.8</td>\n",
              "</tr>\n",
              "<tr>\n",
              "  <th>Df Model:</th>              <td>     1</td>      <th>                     </th>     <td> </td>   \n",
              "</tr>\n",
              "<tr>\n",
              "  <th>Covariance Type:</th>      <td>nonrobust</td>    <th>                     </th>     <td> </td>   \n",
              "</tr>\n",
              "</table>\n",
              "<table class=\"simpletable\">\n",
              "<tr>\n",
              "     <td></td>       <th>coef</th>     <th>std err</th>      <th>t</th>      <th>P>|t|</th>  <th>[0.025</th>    <th>0.975]</th>  \n",
              "</tr>\n",
              "<tr>\n",
              "  <th>const</th>  <td>   -0.0123</td> <td>    0.006</td> <td>   -2.157</td> <td> 0.034</td> <td>   -0.024</td> <td>   -0.001</td>\n",
              "</tr>\n",
              "<tr>\n",
              "  <th>SPY-rf</th> <td>    0.8951</td> <td>    0.053</td> <td>   16.910</td> <td> 0.000</td> <td>    0.790</td> <td>    1.001</td>\n",
              "</tr>\n",
              "</table>\n",
              "<table class=\"simpletable\">\n",
              "<tr>\n",
              "  <th>Omnibus:</th>       <td> 9.816</td> <th>  Durbin-Watson:     </th> <td>   2.062</td>\n",
              "</tr>\n",
              "<tr>\n",
              "  <th>Prob(Omnibus):</th> <td> 0.007</td> <th>  Jarque-Bera (JB):  </th> <td>  11.080</td>\n",
              "</tr>\n",
              "<tr>\n",
              "  <th>Skew:</th>          <td> 0.638</td> <th>  Prob(JB):          </th> <td> 0.00393</td>\n",
              "</tr>\n",
              "<tr>\n",
              "  <th>Kurtosis:</th>      <td> 4.401</td> <th>  Cond. No.          </th> <td>    11.5</td>\n",
              "</tr>\n",
              "</table><br/><br/>Warnings:<br/>[1] Standard Errors assume that the covariance matrix of the errors is correctly specified."
            ],
            "text/plain": [
              "<class 'statsmodels.iolib.summary.Summary'>\n",
              "\"\"\"\n",
              "                            OLS Regression Results                            \n",
              "==============================================================================\n",
              "Dep. Variable:           PORTFOLIO-rf   R-squared:                       0.799\n",
              "Model:                            OLS   Adj. R-squared:                  0.796\n",
              "Method:                 Least Squares   F-statistic:                     286.0\n",
              "Date:                Tue, 13 Apr 2021   Prob (F-statistic):           8.81e-27\n",
              "Time:                        21:19:26   Log-Likelihood:                 134.72\n",
              "No. Observations:                  74   AIC:                            -265.4\n",
              "Df Residuals:                      72   BIC:                            -260.8\n",
              "Df Model:                           1                                         \n",
              "Covariance Type:            nonrobust                                         \n",
              "==============================================================================\n",
              "                 coef    std err          t      P>|t|      [0.025      0.975]\n",
              "------------------------------------------------------------------------------\n",
              "const         -0.0123      0.006     -2.157      0.034      -0.024      -0.001\n",
              "SPY-rf         0.8951      0.053     16.910      0.000       0.790       1.001\n",
              "==============================================================================\n",
              "Omnibus:                        9.816   Durbin-Watson:                   2.062\n",
              "Prob(Omnibus):                  0.007   Jarque-Bera (JB):               11.080\n",
              "Skew:                           0.638   Prob(JB):                      0.00393\n",
              "Kurtosis:                       4.401   Cond. No.                         11.5\n",
              "==============================================================================\n",
              "\n",
              "Warnings:\n",
              "[1] Standard Errors assume that the covariance matrix of the errors is correctly specified.\n",
              "\"\"\""
            ]
          },
          "metadata": {
            "tags": []
          },
          "execution_count": 88
        }
      ]
    },
    {
      "cell_type": "code",
      "metadata": {
        "id": "qyueSPBqGhQ9",
        "colab": {
          "base_uri": "https://localhost:8080/"
        },
        "outputId": "3cb91102-0d67-4a90-ae5a-20ef35f645e6"
      },
      "source": [
        "results_rf_new.params"
      ],
      "execution_count": null,
      "outputs": [
        {
          "output_type": "execute_result",
          "data": {
            "text/plain": [
              "const    -0.012262\n",
              "SPY-rf    0.895122\n",
              "dtype: float64"
            ]
          },
          "metadata": {
            "tags": []
          },
          "execution_count": 89
        }
      ]
    },
    {
      "cell_type": "markdown",
      "metadata": {
        "id": "Az4VzsFx3c2D"
      },
      "source": [
        "Indeed, the estimated ß turns out to be **smaller**; in particular, ß = 0.8951 *(0 < ß < 1)*, which indicates that the portfolio is **less volatile** than the market (its return moves less than 1-to-1 with the return of the benchmark-portfolio). It can be noticed that the weights we picked are **fairly unbalanced**, as we would invest 80% of our money on one single stock (**Verizon**); however, results suggest that this is a rather **safer strategy** with respect to the previous one, where we distributed the portions of investment **almost evenly** across all the stocks."
      ]
    }
  ]
}